{
 "cells": [
  {
   "cell_type": "code",
   "execution_count": null,
   "id": "24fa2f3b-c1ce-4c62-a192-5d0600a57bea",
   "metadata": {
    "editable": true,
    "slideshow": {
     "slide_type": ""
    },
    "tags": []
   },
   "outputs": [],
   "source": [
    "import pandas as pd\n",
    "import numpy as np\n",
    "import seaborn as sns\n",
    "import matplotlib.pyplot as plt\n",
    "plt.rcParams['figure.figsize'] = [40, 3]\n",
    "plt.figure(figsize=(15,15))\n"
   ]
  },
  {
   "cell_type": "code",
   "execution_count": null,
   "id": "90bf7506-461a-4de8-bf43-65792fa68ac2",
   "metadata": {},
   "outputs": [],
   "source": [
    "df = pd.read_csv('KO_vsWT.tsv', sep='\\t', index_col='Geneid')\n",
    "subdf = df[df.PValue.le(.05) & df.FDR.le(.01)].copy()\n",
    "subdf['log_pval'] = np.log(subdf.PValue) *-1\n",
    "annotation = pd.read_csv('nk_atac_peaks.out', sep='\\t', index_col=0)\n",
    "adf = pd.merge(annotation, df, left_index=True, right_index=True)\n",
    "sel_g = pd.read_csv('select_g.csv')\n",
    "sel_g = list(set(sel_g.genes))"
   ]
  },
  {
   "cell_type": "code",
   "execution_count": null,
   "id": "0778a435-dc8e-4e93-9dfe-8231f9a6c556",
   "metadata": {},
   "outputs": [],
   "source": [
    "de_mef = pd.read_csv('sva_mef_cleaned.csv', index_col=0)\n",
    "de_adp = pd.read_csv('sva_adipose_cleaned.csv', index_col=0)\n"
   ]
  },
  {
   "cell_type": "code",
   "execution_count": null,
   "id": "a67c49d7-7981-468a-984e-8984821c337a",
   "metadata": {},
   "outputs": [],
   "source": [
    "sub_ad = adf[adf['Gene Name'].isin(de_mef.index) & adf.Annotation.isin(['Intergenic','promoter-TSS'])].copy()\n",
    "sub_ad = sub_ad.merge(de_mef,left_on='Gene Name', right_index=True)\n",
    "sub_ad['gene'] = sub_ad['Gene Name'].copy()\n",
    "cad = sub_ad.drop(columns=['Chr_y','Start_y','End_y','Chr_x','Start_x','End_x','Focus Ratio/Region Size','Nearest PromoterID','Entrez ID',\n",
    "                     'Nearest Unigene','Nearest Refseq','Nearest Ensembl','Gene Description','Gene Name','Strand'])\n",
    "sub_ad = cad[cad.pvalue.le(.05) & cad.PValue.le(.05)]\n",
    "sub_ad['match'] = (sub_ad.log2FoldChange.gt(0) & sub_ad.logFC.gt(0)) |(sub_ad.log2FoldChange.lt(0) & sub_ad.logFC.lt(0))\n",
    "sub_mef = sub_ad.copy()\n",
    "sub_mef['selected'] = sub_mef.gene.isin(sel_g)"
   ]
  },
  {
   "cell_type": "code",
   "execution_count": null,
   "id": "193e2f75-4ac0-437f-931b-59e14c96fcbc",
   "metadata": {},
   "outputs": [],
   "source": [
    "sub_mef.match = ~sub_mef.match"
   ]
  },
  {
   "cell_type": "code",
   "execution_count": null,
   "id": "a6d4ef92-e73d-4ec2-a043-31891fd49628",
   "metadata": {},
   "outputs": [],
   "source": [
    "import matplotlib.pyplot as plt\n",
    "import seaborn as sns\n",
    "import matplotlib.patches as mpatches\n",
    "import numpy as np\n",
    "from adjustText import adjust_text\n",
    "\n",
    "# Define a consistent palette for the 'match' hue\n",
    "unique_matches = sub_mef['match'].unique()\n",
    "unique_matches = unique_matches[::-1]\n",
    "palette = sns.color_palette(\"Set2\", n_colors=len(unique_matches))\n",
    "\n",
    "plt.figure(figsize=(25, 25))\n",
    "\n",
    "# Create scatterplot with both hue and style\n",
    "ax = sns.scatterplot(data=sub_mef, x='log2FoldChange', y='logFC',\n",
    "                     hue='match',\n",
    "                     palette=palette, legend='full')\n",
    "\n",
    "# Remove the automatically generated legend (which includes both hue and style)\n",
    "if ax.legend_ is not None:\n",
    "    ax.legend_.remove()\n",
    "\n",
    "# Manually create a legend for the hue ('match') only\n",
    "patches = [mpatches.Patch(color=palette[i], label=match) for i, match in enumerate(unique_matches)]\n",
    "plt.legend(handles=patches, title=\"match\", fontsize=16, title_fontsize=18)\n",
    "\n",
    "# Plot text labels for genes, increasing font size and storing texts for adjustment\n",
    "texts = []\n",
    "tml = sub_mef.sort_values('logFC', ascending=False).head(10).index.tolist() + sub_mef.sort_values('logFC', ascending=True).head(10).index.tolist()\n",
    "tml += sub_mef.sort_values('log2FoldChange', ascending=False).head(10).index.tolist() + sub_mef.sort_values('log2FoldChange', ascending=True).head(10).index.tolist()\n",
    "for i in tml:\n",
    "    # Only label points with sufficient magnitude\n",
    "    \n",
    "    # if (np.abs(sub_mef.loc[i].logFC) < 1) or (np.abs(sub_mef.loc[i].log2FoldChange) < 1):\n",
    "    #     continue\n",
    "    texts.append(plt.text(x=sub_mef.log2FoldChange.loc[i] ,\n",
    "                          y=sub_mef.logFC.loc[i] ,\n",
    "                          s=sub_mef.gene.loc[i],\n",
    "                          fontdict={'size': 40, 'weight':'bold'}))\n",
    "\n",
    "# Adjust text positions to reduce overlap with more iterations and modified parameters\n",
    "adjust_text(texts,\n",
    "            autoalign='xy',\n",
    "            only_move={'texts': 'xy'},\n",
    "            force_text=5,\n",
    "            force_points=0,\n",
    "            expand_text=(15, 15),\n",
    "            expand_points=(0, 0),\n",
    "            arrowprops=dict(arrowstyle='->', color='gray'),\n",
    "            lim=100000)\n",
    "\n",
    "# Update title and axis labels with larger fonts\n",
    "plt.title(\"MEF KO vs WT :: ATAC vs RNA\", fontsize=24)\n",
    "plt.xlabel(\"log2FoldChange\", fontsize=16)\n",
    "plt.ylabel(\"log2FoldChange\", fontsize=16)\n",
    "\n",
    "plt.tight_layout()\n",
    "plt.savefig('MEF_atac_vs_rna_b.pdf')\n",
    "plt.show()\n"
   ]
  },
  {
   "cell_type": "code",
   "execution_count": null,
   "id": "8e771f68-4a16-4b24-b3ac-e48e7043d6de",
   "metadata": {},
   "outputs": [],
   "source": [
    "plt.figure(figsize=(5,5))\n",
    "\n",
    "from matplotlib_venn import venn2\n",
    "mef_g = de_mef[de_mef.padj.le(.05)].index.tolist()\n",
    "adp_g = de_adp[de_adp.padj.le(.05)].index.tolist()\n",
    "shared_g = set(mef_g) & set(adp_g)\n",
    "venn2(subsets = (len(mef_g) - len(shared_g), len(adp_g) - len(shared_g), len(shared_g)), set_labels = ('MEF', 'VAT') )\n",
    "plt.title(f\"shared DE genes WT vs KO \\n padj <= .05 \\nMEF & VAT :: total {len(mef_g)  + len(adp_g) - len(shared_g) }\")\n",
    "plt.savefig('MEF_VAT_DGE_venn.pdf')\n"
   ]
  },
  {
   "cell_type": "code",
   "execution_count": null,
   "id": "e5522a7c-be1d-4fc3-bd1c-a04d441c7a8c",
   "metadata": {},
   "outputs": [],
   "source": [
    "# shared_g\n",
    "out_a = sub_adp[['logFC','PValue','FDR','log2FoldChange','pvalue','padj','gene','match','selected']]\n",
    "out_m = sub_mef[['logFC','PValue','FDR','log2FoldChange','pvalue','padj','gene','match','selected']]\n",
    "out_a['sample'] = 'ADP'\n",
    "out_m['sample'] = 'MEF'"
   ]
  },
  {
   "cell_type": "code",
   "execution_count": null,
   "id": "28afc0c0-380a-4c19-8522-ebb6187b9129",
   "metadata": {},
   "outputs": [],
   "source": [
    "DE_both = pd.concat([out_m,out_a])"
   ]
  },
  {
   "cell_type": "code",
   "execution_count": null,
   "id": "77385037-5c95-4d36-a9e8-f2a44ee161c3",
   "metadata": {},
   "outputs": [],
   "source": [
    "DE_both.columns = ['logFC_ATAC', 'PValue', 'FDR', 'log2FoldChange_RNA', 'pvalue', 'padj', 'gene', 'ATAC_RNA_FC_match', 'selected', 'sample']\n"
   ]
  },
  {
   "cell_type": "code",
   "execution_count": null,
   "id": "4786d7a8-9246-464f-9239-a359dd2b4fb4",
   "metadata": {},
   "outputs": [],
   "source": [
    "import scanpy as sc "
   ]
  },
  {
   "cell_type": "code",
   "execution_count": null,
   "id": "eb61c10a-0e29-4414-a87a-f8a10cc6b8d9",
   "metadata": {},
   "outputs": [],
   "source": [
    "adata = sc.read_10x_mtx('Downloads/GSE264266_RAW/')\n",
    "adata\n",
    "# adata.var"
   ]
  },
  {
   "cell_type": "code",
   "execution_count": null,
   "id": "3086d807-41e0-46f3-bcd8-51f08fd18e82",
   "metadata": {},
   "outputs": [],
   "source": [
    "adata.var_names_make_unique()\n",
    "adata.obs_names_make_unique()\n",
    "adata.layers['counts'] = adata.X.copy()\n",
    "sc.pp.filter_cells(adata, min_genes=200)\n",
    "sc.pp.filter_genes(adata, min_cells=10)\n",
    "adata.var['mt'] = adata.var_names.str.startswith('mt-')\n",
    "sc.pp.calculate_qc_metrics(adata,qc_vars=['mt'], percent_top=None, log1p=False, inplace=True)"
   ]
  },
  {
   "cell_type": "code",
   "execution_count": null,
   "id": "49a3c4db-9714-4bf8-bc70-38825126f939",
   "metadata": {
    "scrolled": true
   },
   "outputs": [],
   "source": [
    "sc.pl.violin(\n",
    "    adata,\n",
    "    [\"n_genes_by_counts\", \"total_counts\", \"pct_counts_mt\"],\n",
    "    jitter=0.4,\n",
    "    multi_panel=True,\n",
    ")\n",
    "sc.pl.scatter(adata, \"total_counts\", \"n_genes_by_counts\", color=\"pct_counts_mt\")\n",
    "adata = adata[adata.obs.pct_counts_mt.le(15)].copy()\n",
    "sc.pl.violin(\n",
    "    adata,\n",
    "    [\"n_genes_by_counts\", \"total_counts\", \"pct_counts_mt\"],\n",
    "    jitter=0.4,\n",
    "    multi_panel=True,\n",
    ")\n",
    "sc.pl.scatter(adata, \"total_counts\", \"n_genes_by_counts\", color=\"pct_counts_mt\")\n"
   ]
  },
  {
   "cell_type": "code",
   "execution_count": null,
   "id": "4aeb102a-8d72-4076-b963-c2b84aa973ec",
   "metadata": {},
   "outputs": [],
   "source": [
    "sc.pp.normalize_total(adata, target_sum=1e4)\n",
    "sc.pp.log1p(adata)\n",
    "sc.pp.highly_variable_genes(adata, n_top_genes=2000)\n",
    "sc.pp.scale(adata)\n",
    "sc.pp.pca(adata)\n",
    "sc.pp.neighbors(adata)\n",
    "sc.tl.umap(adata)\n",
    "sc.tl.leiden(adata, resolution=.3, key_added='undercluster')"
   ]
  },
  {
   "cell_type": "code",
   "execution_count": null,
   "id": "0b29cdbb-5a1d-41ed-82b5-f1bb03475632",
   "metadata": {},
   "outputs": [],
   "source": [
    "sc.pl.umap(adata, color=['undercluster','Smpd3','Syt7'], legend_loc='on data')"
   ]
  },
  {
   "cell_type": "code",
   "execution_count": null,
   "id": "43e2fa54-22c6-4bf7-a971-149f48babd05",
   "metadata": {},
   "outputs": [],
   "source": [
    "sc.pl.pca_loadings(adata)"
   ]
  },
  {
   "cell_type": "code",
   "execution_count": null,
   "id": "38a40081-1aa4-4d81-b74b-1d0b279e822b",
   "metadata": {},
   "outputs": [],
   "source": [
    "priors = adf[adf['Gene Name'].isin(list(set(shared_g) & set(adata.var_names))) & ~adf.Annotation.str.startswith('intron')][adf.columns[0:3]]\n"
   ]
  },
  {
   "cell_type": "code",
   "execution_count": null,
   "id": "522282cb-812c-45d5-b990-5f749c51e068",
   "metadata": {},
   "outputs": [],
   "source": [
    "priors.to_csv('Desktop/adp_priors.bed', sep='\\t', index=False, header=False)"
   ]
  },
  {
   "cell_type": "code",
   "execution_count": null,
   "id": "7bc331c9-0be7-48bb-b5d0-3b3d824dd28e",
   "metadata": {},
   "outputs": [],
   "source": [
    "adata.X = adata.layers['counts'].copy()\n",
    "adata.write_h5ad('Desktop/SAMIRA/subnet/input.h5ad')"
   ]
  },
  {
   "cell_type": "code",
   "execution_count": null,
   "id": "667948ea-c530-4151-8c77-ec2b077eaad4",
   "metadata": {},
   "outputs": [],
   "source": [
    "open('Desktop/SAMIRA/subnet/tf_list.txt','w').write('\\n'.join(adata[:,adata.var_names.isin(tf.Symbol.tolist())].var_names.tolist()))"
   ]
  },
  {
   "cell_type": "code",
   "execution_count": null,
   "id": "350bc5f1-97fc-468d-81f3-1120f77b6295",
   "metadata": {},
   "outputs": [],
   "source": [
    "priors = pd.read_csv('Desktop/adp_priors.bed', sep='\\t')\n"
   ]
  },
  {
   "cell_type": "code",
   "execution_count": null,
   "id": "72c4f0e4-e6a6-41fc-8d27-dc0e34941a05",
   "metadata": {},
   "outputs": [],
   "source": [
    "import scanpy as sc\n",
    "import pandas as pd\n",
    "adata = sc.read_h5ad('Desktop/SAMIRA/subnet/input.h5ad')\n"
   ]
  },
  {
   "cell_type": "code",
   "execution_count": null,
   "id": "a1aabc71-934b-4224-ae68-9720db8d3299",
   "metadata": {},
   "outputs": [],
   "source": [
    "net = pd.read_csv('/Volumes/GS4T/WORK/SAMIRA/subnet_out_tfa/network.tsv.gz', sep='\\t')"
   ]
  },
  {
   "cell_type": "code",
   "execution_count": null,
   "id": "da19a632-067c-49ba-b78a-5c4f5157408b",
   "metadata": {},
   "outputs": [],
   "source": [
    "coef = pd.read_csv('/Volumes/GS4T/WORK/SAMIRA/subnet_out/model_coefficients.tsv.gz', sep='\\t', index_col=0)"
   ]
  },
  {
   "cell_type": "code",
   "execution_count": null,
   "id": "36e0e36d-2035-44de-a8f5-e3461d2b7a76",
   "metadata": {},
   "outputs": [],
   "source": [
    "DE_both = pd.read_csv('Desktop/shared_MEF_ADP.txt', header=None)"
   ]
  },
  {
   "cell_type": "code",
   "execution_count": null,
   "id": "41358001-2472-4126-abc9-195f4879640f",
   "metadata": {},
   "outputs": [],
   "source": [
    "sel_g = pd.read_csv('/Volumes/GS4T/WORK/MAY_2024/SAMIRA/select_g.csv')\n",
    "sel_g = list(set(sel_g.genes))\n",
    "subnet = net[net.target.isin(DE_both[0]) | net.target.isin(sel_g)].copy()"
   ]
  },
  {
   "cell_type": "code",
   "execution_count": null,
   "id": "fc8e11ab-4fee-4c64-bb44-09e44550aa0f",
   "metadata": {},
   "outputs": [],
   "source": [
    "subnet[subnet['model_exp_var'].ge(.1)]"
   ]
  },
  {
   "cell_type": "code",
   "execution_count": null,
   "id": "7a79e9b3-19a5-4d19-a087-71ec0e85d312",
   "metadata": {},
   "outputs": [],
   "source": [
    "net[net.target.isin(sel_g) & net.model_exp_var.gt(.01)].target.value_counts()"
   ]
  },
  {
   "cell_type": "code",
   "execution_count": null,
   "id": "43e76295-9c17-4556-8d78-9dc81fc91a74",
   "metadata": {},
   "outputs": [],
   "source": [
    "net[net.target.isin(sel_g) & net.model_exp_var.gt(.01)]"
   ]
  },
  {
   "cell_type": "code",
   "execution_count": null,
   "id": "cc10eb24-2bb3-4b1b-94fc-eeb0bce7e7d5",
   "metadata": {},
   "outputs": [],
   "source": [
    "my_net = set(net[net.target.isin(sel_g)].target.unique().tolist() + net[net.target.isin(sel_g)].regulator.unique().tolist())"
   ]
  },
  {
   "cell_type": "code",
   "execution_count": null,
   "id": "34194e66-ceb0-4d9a-9fd3-90b33b7175cd",
   "metadata": {},
   "outputs": [],
   "source": [
    "adata.X = adata.layers['counts'].copy()\n",
    "sc.pp.normalize_total(adata, target_sum=1e4)\n",
    "sub_ad = adata[:,list(my_net)].copy()\n",
    "my_net = set(net[net.target.isin(sel_g)].target.unique().tolist() + net[net.target.isin(sel_g)].regulator.unique().tolist())\n"
   ]
  },
  {
   "cell_type": "code",
   "execution_count": null,
   "id": "b0be379b-9245-4407-b5a5-d9f275f4ed64",
   "metadata": {},
   "outputs": [],
   "source": [
    "infer = sc.read_h5ad('/Volumes/GS4T/WORK/SAMIRA/subnet_out_tfa/inferelator_model.h5ad')"
   ]
  },
  {
   "cell_type": "code",
   "execution_count": null,
   "id": "13ca5ef5-85e7-4a79-83e5-0315d0c3f5bf",
   "metadata": {},
   "outputs": [],
   "source": [
    "# priors = pd.read_csv('/Volumes/GS4T/WORK/SAMIRA/subnet/sam_priors_edge_matrix.tsv', sep='\\t', index_col=0)\n",
    "# priors\n",
    "sc.pp.log1p(adata)\n",
    "sc.pp.scale(adata)\n",
    "# adata.X\n",
    "sub_ad = adata[:,list(my_net)].copy()\n",
    "sub_ad"
   ]
  },
  {
   "cell_type": "code",
   "execution_count": null,
   "id": "a896f0a6-b65c-4952-9340-1ee7222a2901",
   "metadata": {},
   "outputs": [],
   "source": []
  },
  {
   "cell_type": "code",
   "execution_count": null,
   "id": "ac4ff680-ba50-4b1c-acdb-4841ac907e3c",
   "metadata": {
    "scrolled": true
   },
   "outputs": [],
   "source": [
    "import numpy as np\n",
    "import pandas as pd\n",
    "from sklearn.model_selection import GridSearchCV\n",
    "from sklearn.linear_model import ElasticNet\n",
    "from sklearn.preprocessing import StandardScaler\n",
    "from sklearn.pipeline import Pipeline\n",
    "from sklearn.metrics import mean_squared_error, r2_score\n",
    "\n",
    "# Example: Generating synthetic data for demonstration\n",
    "np.random.seed(42)\n",
    "\n",
    "\n",
    "\n",
    "\n",
    "\n",
    "# Parameters for ElasticNet\n",
    "param_grid = {\n",
    "    'elasticnet__alpha': np.logspace(-3, -1, 50),  # Alpha range\n",
    "    'elasticnet__l1_ratio': [0.01, 0.1, 0.2, 0.25,.3,.35,.4]  # L1 ratio range\n",
    "}\n",
    "\n",
    "# Results storage\n",
    "results = []\n",
    "models = {}\n",
    "adata.X = adata.layers['counts'].copy()\n",
    "sc.pp.normalize_total(adata, target_sum=1e4)\n",
    "my_net = set(net[net.target.isin(sel_g)].target.unique().tolist() + net[net.target.isin(sel_g)].regulator.unique().tolist())\n",
    "sub_ad = adata[:,list(my_net)].copy()\n",
    "\n",
    "# Loop over 200 regression tasks\n",
    "i=0\n",
    "for x in sel_g:\n",
    "    my_regs = net[net.target.eq(x)].regulator.tolist()\n",
    "    if len(my_regs)==0:\n",
    "        continue\n",
    "    X = adata[:,my_regs].X.toarray()\n",
    "    y = adata[:,x].X.toarray()    \n",
    "    # Train-test split for this task\n",
    "    from sklearn.model_selection import train_test_split\n",
    "    X_train, X_test, y_train, y_test = train_test_split(X, y, test_size=0.2, random_state=42)\n",
    "\n",
    "    # Pipeline with scaling and ElasticNet\n",
    "    pipeline = Pipeline([\n",
    "        ('scaler', StandardScaler()),  # Scaling\n",
    "        ('elasticnet', ElasticNet(random_state=42, fit_intercept=False))  # ElasticNet without intercept\n",
    "    ])\n",
    "\n",
    "    # GridSearchCV for hyperparameter tuning\n",
    "    grid_search = GridSearchCV(estimator=pipeline, param_grid=param_grid, cv=5, scoring='neg_mean_squared_error', n_jobs=-1)\n",
    "    grid_search.fit(X_train, y_train)\n",
    "\n",
    "    # Get the best model\n",
    "    best_model = grid_search.best_estimator_\n",
    "\n",
    "    # Evaluate the model\n",
    "    y_pred = best_model.predict(X_test)\n",
    "    mse = mean_squared_error(y_test, y_pred)\n",
    "    r2 = r2_score(y_test, y_pred)\n",
    "\n",
    "    # Save results\n",
    "    results.append({\n",
    "        'Task': i + 1,\n",
    "        'Gene':x,\n",
    "        'Best Alpha': grid_search.best_params_['elasticnet__alpha'],\n",
    "        'Best L1 Ratio': grid_search.best_params_['elasticnet__l1_ratio'],\n",
    "        'Mean Squared Error': mse,\n",
    "        'R-squared': r2,\n",
    "    })\n",
    "    models[x] = best_model.named_steps['elasticnet']\n",
    "    i+=1\n",
    "# Convert results to a DataFrame\n",
    "results_df = pd.DataFrame(results)\n",
    "\n",
    "# Display the results\n",
    "# import ace_tools as tools; tools.display_dataframe_to_user(name=\"ElasticNet Regression Results for MEF\", dataframe=results_df)\n"
   ]
  },
  {
   "cell_type": "code",
   "execution_count": null,
   "id": "0f882c79-2aa2-4a88-9599-ac6577602a3d",
   "metadata": {},
   "outputs": [],
   "source": [
    "# net[net.target.eq('Vegfa')].regulator.tolist()\n",
    "\n",
    "tmp_v = pd.DataFrame(models[my_f_g].coef_, index=net[net.target.eq(my_f_g)].regulator.tolist())\n",
    "tmp_v = tmp_v[np.abs(tmp_v[0])>0]\n",
    "tmp_v"
   ]
  },
  {
   "cell_type": "code",
   "execution_count": null,
   "id": "ae0f960c-fabf-4603-ad5e-b1d4abddf65f",
   "metadata": {},
   "outputs": [],
   "source": [
    "net[net.target.eq(my_f_g) & net.regulator.isin(tmp_v.index)]"
   ]
  },
  {
   "cell_type": "code",
   "execution_count": null,
   "id": "e51d5b83-95e1-46a7-8648-25e33780731d",
   "metadata": {},
   "outputs": [],
   "source": [
    "# bulk_mef = pd.read_csv('Desktop/SAMIRA/subnet_out/MEF_bulk.csv', index_col=0)\n",
    "WT = bulk_mef.iloc[0:3]\n",
    "WT"
   ]
  },
  {
   "cell_type": "code",
   "execution_count": null,
   "id": "8ef71511-88b8-4f5a-b8b1-f99c01a8f9e0",
   "metadata": {},
   "outputs": [],
   "source": [
    "WT[[x for x in WT.columns if x in sel_g]]\n",
    "# WT[['Vegfa', 'Shox2', 'Fos', 'Jun']]\n",
    "# WT[['Lst1','Vezf1', 'Fosl1']]"
   ]
  },
  {
   "cell_type": "code",
   "execution_count": null,
   "id": "1c2e7e11-af04-4635-95ec-19991727a4e6",
   "metadata": {},
   "outputs": [],
   "source": [
    "scaler = StandardScaler()\n",
    "# scaled_matrix = scaler.fit_transform(WT[['Vegfa', 'Shox2', 'Fos', 'Jun']])\n",
    "scaled_matrix = scaler.fit_transform(WT[[my_f_g]+tmp_v.index.tolist()])\n",
    "scaled_matrix"
   ]
  },
  {
   "cell_type": "code",
   "execution_count": null,
   "id": "36d663d5-585f-40fa-988f-56d04052129d",
   "metadata": {},
   "outputs": [],
   "source": [
    "# rg = pd.DataFrame(scaled_matrix, columns=['Vegfa', 'Shox2', 'Fos', 'Jun'])\n",
    "# rg[['Shox2', 'Fos', 'Jun']].dot(tmp_v[0].tolist()) \n",
    "rg = pd.DataFrame(scaled_matrix, columns=[my_f_g]+tmp_v.index.tolist())\n",
    "print(rg[tmp_v.index.tolist()].dot(tmp_v[0].tolist()) - rg[my_f_g])\n",
    "print(rg[tmp_v.index.tolist()].dot(tmp_v[0].tolist()))\n",
    "print(rg[my_f_g])\n",
    "# rg.dot(tmp_v[0].tolist()) \n",
    "# print(tmp_v.index.tolist())\n"
   ]
  },
  {
   "cell_type": "code",
   "execution_count": null,
   "id": "5c68ed07-dd3a-4a10-947c-9d55dc811c7c",
   "metadata": {},
   "outputs": [],
   "source": [
    "net[net.target.isin(sel_g)].to_csv('Desktop/SAMIRA/subnet_out/filt_net.tsv', sep='\\t', index=None)"
   ]
  },
  {
   "cell_type": "code",
   "execution_count": null,
   "id": "31b53364-27ad-4f94-9eaf-2565ddb08eeb",
   "metadata": {},
   "outputs": [],
   "source": [
    "TFA = pd.read_csv('Desktop/SAMIRA/subnet_out_tfa/TFA.tsv', sep='\\t')\n",
    "TFA"
   ]
  },
  {
   "cell_type": "code",
   "execution_count": null,
   "id": "c425b7b3-093c-4369-82b8-40c272ef21e9",
   "metadata": {},
   "outputs": [],
   "source": [
    "# infer.uns['network']\n",
    "tfanet = net[net.target.isin(sel_g) & net.regulator.isin(TFA.columns)].copy()\n",
    "tfanet = tfanet[['target','regulator','model_coefficient']].copy()"
   ]
  },
  {
   "cell_type": "code",
   "execution_count": null,
   "id": "8d5b128d-569e-4d52-be22-a501d88e14d4",
   "metadata": {},
   "outputs": [],
   "source": [
    "tfanet\n",
    "TFA = TFA.set_index('Unnamed: 0')\n"
   ]
  },
  {
   "cell_type": "code",
   "execution_count": null,
   "id": "ad1f7c0d-a0ec-4485-b61e-aef0b647c843",
   "metadata": {},
   "outputs": [],
   "source": [
    "import pandas as pd\n",
    "# Example: betas DataFrame (regulator, target, model_coefficient)\n",
    "# betas = pd.DataFrame({\n",
    "#     \"target\": [\"GeneA\", \"GeneB\", \"GeneA\", \"GeneC\"],\n",
    "#     \"regulator\": [\"TF1\", \"TF1\", \"TF2\", \"TF3\"],\n",
    "#     \"model_coefficient\": [0.5, -0.3, 1.2, 0.8]\n",
    "# })\n",
    "\n",
    "# Example: TFA DataFrame (observations x regulators)\n",
    "# TFA = pd.DataFrame({\n",
    "#     \"TF1\": [0.2, 0.4],\n",
    "#     \"TF2\": [0.1, 0.3],\n",
    "#     \"TF3\": [0.5, 0.7]\n",
    "# })\n",
    "\n",
    "# Step 1: Pivot the betas DataFrame into a matrix\n",
    "B = tfanet.pivot(index=\"regulator\", columns=\"target\", values=\"model_coefficient\").fillna(0)\n",
    "\n",
    "# Step 2: Filter to keep only regulators present in TFA.columns\n",
    "common_regulators = B.index.intersection(TFA.columns)\n",
    "B = B.loc[common_regulators]"
   ]
  },
  {
   "cell_type": "code",
   "execution_count": null,
   "id": "c9f0c6b5-23c9-407a-97c0-2f1257706889",
   "metadata": {},
   "outputs": [],
   "source": [
    "# result = TFA @ B  # Matrix multiplication\n",
    "# TFA\n",
    "B"
   ]
  },
  {
   "cell_type": "code",
   "execution_count": null,
   "id": "ebfead22-faeb-4cee-87b6-164c6afa5999",
   "metadata": {},
   "outputs": [],
   "source": [
    "# TFA.columns[TFA.columns.isin(B.index)].tolist()\n",
    "rebuilt_expression = TFA.loc[:,TFA.columns[TFA.columns.isin(B.index)].tolist()] @ B"
   ]
  },
  {
   "cell_type": "code",
   "execution_count": null,
   "id": "1c192324-7b67-4408-926e-52f495ddbaf0",
   "metadata": {},
   "outputs": [],
   "source": [
    "rebuilt_expression"
   ]
  },
  {
   "cell_type": "code",
   "execution_count": null,
   "id": "a2b6b937-7929-4237-b0d1-96e916e4c2aa",
   "metadata": {},
   "outputs": [],
   "source": [
    "adata[rebuilt_expression.index.tolist(), rebuilt_expression.columns.tolist()].X.todense() - rebuilt_expression"
   ]
  },
  {
   "cell_type": "code",
   "execution_count": null,
   "id": "ad150eb7-af69-4592-88ca-59778af8a525",
   "metadata": {},
   "outputs": [],
   "source": [
    "# compute the activity from the bulk replicates \n",
    "# then mux it, refit the coefficients and predict the KO expression \n",
    "\n",
    "adata[rebuilt_expression.index.tolist(), rebuilt_expression.columns.tolist()]"
   ]
  },
  {
   "cell_type": "code",
   "execution_count": null,
   "id": "3e32414f-b7e8-4ca4-871c-5bc6a71ca53e",
   "metadata": {},
   "outputs": [],
   "source": [
    "net.loc[tfanet.index][net.loc[tfanet.index]['model_exp_var'].gt(.05)].regulator.value_counts()"
   ]
  },
  {
   "cell_type": "code",
   "execution_count": null,
   "id": "d9c42247-00ce-49df-b55e-54024d345d31",
   "metadata": {},
   "outputs": [],
   "source": [
    "df = sub_mef[sub_mef.gene.isin(['Npas4',\n",
    "'Clock',\n",
    "'E2f8',\n",
    "'Zeb2',\n",
    "'Smad5',\n",
    "'Lef1',\n",
    "'Klf6',\n",
    "'Foxo3',\n",
    "'Sox4',\n",
    "'Glis2',\n",
    "'Sox2',\n",
    "'Pbx2',\n",
    "'Maz',\n",
    "'Klf16',\n",
    "'Barx1',\n",
    "'Tbx2',\n",
    "'Sox13',\n",
    "'Sox8',\n",
    "'Gata4'])][['logFC','gene']]\n",
    "\n",
    "heatmap_data = df.pivot(columns='gene', values='logFC')"
   ]
  },
  {
   "cell_type": "code",
   "execution_count": null,
   "id": "f4bdb7e7-d477-4da0-9515-8c54096fb3b4",
   "metadata": {},
   "outputs": [],
   "source": [
    "# heatmap_data = df.pivot(index='sample', columns='gene', values='logFC')\n",
    "\n",
    "# Plot heatmap\n",
    "plt.figure(figsize=(8, 10))\n",
    "plt.imshow(heatmap_data.values, aspect='auto')\n",
    "plt.colorbar(label='logFC')\n",
    "plt.xticks(range(len(heatmap_data.columns)), heatmap_data.columns, rotation=90)\n",
    "plt.yticks(range(len(heatmap_data.index)), heatmap_data.index)\n",
    "plt.xlabel('Gene')\n",
    "plt.ylabel('Peak')\n",
    "plt.title('Heatmap of logFC by Gene and peaks')\n",
    "plt.tight_layout()\n",
    "plt.show()"
   ]
  },
  {
   "cell_type": "code",
   "execution_count": null,
   "id": "582811bf-3fdf-4109-8eb9-a104b1d2e563",
   "metadata": {},
   "outputs": [],
   "source": [
    "from matplotlib.colors import TwoSlopeNorm\n",
    "\n",
    "norm = TwoSlopeNorm(vmin=heatmap_data.values.min(),\n",
    "                    vcenter=0,\n",
    "                    vmax=heatmap_data.values.max())\n",
    "\n",
    "plt.figure(figsize=(8, 10))\n",
    "plt.imshow(heatmap_data.values, aspect='auto',\n",
    "           cmap='bwr', norm=norm)\n",
    "plt.colorbar(label='logFC')\n",
    "plt.xticks(range(len(heatmap_data.columns)),\n",
    "           heatmap_data.columns, rotation=90)\n",
    "plt.yticks(range(len(heatmap_data.index)),\n",
    "           heatmap_data.index)\n",
    "plt.xlabel('Gene')\n",
    "plt.ylabel('Sample')\n",
    "plt.title('log2FC accessibility of peaks by genes  WT vs KO')\n",
    "plt.tight_layout()\n",
    "plt.show()"
   ]
  },
  {
   "cell_type": "code",
   "execution_count": null,
   "id": "9f33401a-2316-4ad9-ab30-11717d0bf5d5",
   "metadata": {},
   "outputs": [],
   "source": [
    "heatmap_data.to_csv('Desktop/MEF_NM1_ATAC_FC.csv')"
   ]
  }
 ],
 "metadata": {
  "kernelspec": {
   "display_name": "Python 3 (ipykernel)",
   "language": "python",
   "name": "python3"
  },
  "language_info": {
   "codemirror_mode": {
    "name": "ipython",
    "version": 3
   },
   "file_extension": ".py",
   "mimetype": "text/x-python",
   "name": "python",
   "nbconvert_exporter": "python",
   "pygments_lexer": "ipython3",
   "version": "3.10.15"
  }
 },
 "nbformat": 4,
 "nbformat_minor": 5
}
